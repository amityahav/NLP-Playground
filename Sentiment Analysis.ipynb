{
 "cells": [
  {
   "cell_type": "code",
   "execution_count": 50,
   "id": "fd211285-2d10-48d5-83ca-d7f32d749f88",
   "metadata": {},
   "outputs": [],
   "source": [
    "import io\n",
    "import os\n",
    "import re\n",
    "import shutil\n",
    "import string\n",
    "import tensorflow as tf\n",
    "import numpy as np\n",
    "\n",
    "from tensorflow.keras import Sequential\n",
    "from tensorflow.keras.layers import Dense, Embedding, Bidirectional, LSTM\n",
    "from tensorflow.keras.layers import TextVectorization"
   ]
  },
  {
   "cell_type": "code",
   "execution_count": 4,
   "id": "89426020-4b61-4554-9752-274b8e93eb90",
   "metadata": {},
   "outputs": [
    {
     "name": "stdout",
     "output_type": "stream",
     "text": [
      "Downloading data from https://ai.stanford.edu/~amaas/data/sentiment/aclImdb_v1.tar.gz\n",
      "84131840/84125825 [==============================] - 51s 1us/step\n",
      "84140032/84125825 [==============================] - 51s 1us/step\n"
     ]
    },
    {
     "data": {
      "text/plain": [
       "['imdbEr.txt', 'test', 'imdb.vocab', 'README', 'train']"
      ]
     },
     "execution_count": 4,
     "metadata": {},
     "output_type": "execute_result"
    }
   ],
   "source": [
    "url = \"https://ai.stanford.edu/~amaas/data/sentiment/aclImdb_v1.tar.gz\"\n",
    "\n",
    "dataset = tf.keras.utils.get_file(\"aclImdb_v1.tar.gz\", url, untar = True, cache_dir = '.', cache_subdir = '')\n",
    "\n",
    "dataset_dir = os.path.join(os.path.dirname(dataset), 'aclImdb')\n",
    "os.listdir(dataset_dir)"
   ]
  },
  {
   "cell_type": "code",
   "execution_count": 5,
   "id": "a99cebbb-6919-4f82-93a7-536b527075b8",
   "metadata": {},
   "outputs": [
    {
     "data": {
      "text/plain": [
       "['urls_unsup.txt',\n",
       " 'neg',\n",
       " 'urls_pos.txt',\n",
       " 'unsup',\n",
       " 'urls_neg.txt',\n",
       " 'pos',\n",
       " 'unsupBow.feat',\n",
       " 'labeledBow.feat']"
      ]
     },
     "execution_count": 5,
     "metadata": {},
     "output_type": "execute_result"
    }
   ],
   "source": [
    "train_dir = os.path.join(dataset_dir, 'train')\n",
    "os.listdir(train_dir)"
   ]
  },
  {
   "cell_type": "code",
   "execution_count": 14,
   "id": "88ecfd9f-d645-4678-b93a-99e5cb85b142",
   "metadata": {
    "tags": []
   },
   "outputs": [],
   "source": [
    "remove_dir = os.path.join(train_dir, 'unsup')\n",
    "shutil.rmtree(remove_dir)"
   ]
  },
  {
   "cell_type": "code",
   "execution_count": 15,
   "id": "0bf9138e-9d2b-4f5f-b665-87f50a22ad56",
   "metadata": {},
   "outputs": [
    {
     "name": "stdout",
     "output_type": "stream",
     "text": [
      "Found 25000 files belonging to 2 classes.\n",
      "Using 20000 files for training.\n",
      "Found 25000 files belonging to 2 classes.\n",
      "Using 5000 files for validation.\n"
     ]
    }
   ],
   "source": [
    "batch_size = 1024\n",
    "seed = 123\n",
    "train_ds = tf.keras.preprocessing.text_dataset_from_directory('aclImdb/train', batch_size = batch_size, validation_split = 0.2, subset = 'training', seed = seed)\n",
    "val_ds = tf.keras.preprocessing.text_dataset_from_directory('aclImdb/train', batch_size = batch_size, validation_split = 0.2, subset = 'validation', seed = seed)\n"
   ]
  },
  {
   "cell_type": "code",
   "execution_count": 18,
   "id": "6d36c173-d48d-4c58-b6a2-32f1c111fe8d",
   "metadata": {
    "collapsed": true,
    "jupyter": {
     "outputs_hidden": true
    },
    "tags": []
   },
   "outputs": [
    {
     "name": "stdout",
     "output_type": "stream",
     "text": [
      "1 b\"The original animated Dark Knight returns in this ace adventure movie that rivals Mask of Phantasm in its coolness. There's a lot of style and intelligence in Mystery of the Batwoman, so much more than Batman Forever or Batman and Robin.<br /><br />There's a new crime-fighter on the streets of Gotham. She dresses like a bat but she's not a grown-up Batgirl. And Batman is denying any affiliation with her. Meanwhile Bruce Wayne has to deal with the usual romances and detective work. But the Penguin, Bain and the local Mob makes things little more complicated.<br /><br />I didn't have high hopes for this 'un since being strongly let down but the weak Batman: Sub Zero (Robin isn't featured so much here!)but I was delighted with the imaginative and exciting set pieces, the clever plot and a cheeky sense of humor. This is definitely a movie no fan of Batman should be without. Keep your ears open for a really catchy song called 'Betcha Neva' which is featured prominently through-out.<br /><br />It's a shame the DVD isn't so great. Don't get me wrong there are some great features (the short 'Chase Me' is awesome) and a very cool Dolby 5.1 soundtrack but... the movie is presented in Pan and Scan. Batman: Mystery of the Batwoman was drawn and shot in 1.85:1 but this DVD is presented in 1.33:1 an in comparison to the widescreen clips shown on the features there IS picture cut off on both sides. I find this extremely annoying considering Mask of Phantasm was presented in anamorphic widescreen. Warner have had to re-release literally dozens of movies on DVD because people have complained about the lack of Original Aspect Ratio available on some titles. Why they chose to make that same mistake here again is beyond me.<br /><br />I would give this DVD 5/5 but the lack of OAR brings the overall score down to 4/5. It's a shame because widescreen would have completed a great DVD package.\"\n",
      "1 b'Probably my all-time favorite movie, a story of selflessness, sacrifice and dedication to a noble cause, but it\\'s not preachy or boring. It just never gets old, despite my having seen it some 15 or more times in the last 25 years. Paul Lukas\\' performance brings tears to my eyes, and Bette Davis, in one of her very few truly sympathetic roles, is a delight. The kids are, as grandma says, more like \"dressed-up midgets\" than children, but that only makes them more fun to watch. And the mother\\'s slow awakening to what\\'s happening in the world and under her own roof is believable and startling. If I had a dozen thumbs, they\\'d all be \"up\" for this movie.'\n",
      "1 b'I claim no matter how hard I seek I\\'ll never find a better movie version of \"Othello\". If you love Kenneth Branagh\\'s magnificent masterpieces \"Much ado about nothing\" (1993) and \"Hamlet\" (1996) as much as I do I\\'m dead certain you\\'ll also find Oliver Parker\\'s \"Othello\" irresistible. Laurence Fishburne has been in a various splendid roles during his career. He was quite terrific in \"Boys n the hood\" (1991) - I\\'ve always considered his amusing role of Furious Styles as his very greatest achievement. That was, of course, way before I saw this.<br /><br />He plays the part of Othello and he is probably in the most challenging role of his whole career but he does a brilliant, fantastic job. Ir\\xc3\\xa8ne Jacob is absolutely charming Desdemona and Kenneth Branagh is just simply phenomenal in a most fascinating role of the story\\'s crooked, manipulate villain Iago. Marvelous \"Othello\" is part of the absolute elite among Shakespeare\\'s ingenious works. It deals with his favorite topics: crookedness, envy, deceitfulness and jealousy. This movie adaptation is certainly one of the finest films I\\'ve seen that\\'s based on William Shakespeare\\'s plays.'\n",
      "1 b\"Some people say this is the best film that PRC ever released, I'm not too sure about that since I have a fond place in my heart for some of their mysteries. I will say that this is probably one of the most unique films they, or any other studio, major or minor, ever released.<br /><br />The plot is simple. The ghost of a wrongly executed ferryman has returned to the swamp to kill all those who lynched him as well as all of their off spring. Into this mix comes the granddaughter of one ghosts victims, the current ferryman. She takes over the ferry business as the ghost closes in on the man she loves.<br /><br />Shrouded in dense fog and set primarily on the single swamp set this is more musical poem than regular feature film.Listen to the rhythms of the dialog, especially in the early scenes, their is poetical cadence to them. Likewise there is a similar cadence to the camera work as it travels back and forth across the swamp as if crossing back and forth across the door way between life and death, innocence and guilt. The film reminds me of an opera or oratorio or musical object lesson more than a normal horror film. Its an amazing piece of film making that is probably unique in film history.<br /><br />This isn't to guild the Lilly. This is a low budget horror/mystery that tells you a neat little story that will keep you entertained. Its tale of love and revenge is what matters here, not the poetical film making and it holds you attention first and foremost (the technical aspects just being window dressing.) If there is any real flaw its the cheapness of the production. The fog does create a mood but it also hides the fact that this swamp is entirely on dry land. The constant back and forth across it is okay for a while but even after 58 minutes you do wish that we could see something else.<br /><br />Don't get me wrong I do like the film a great deal. Its a good little film that I some how wish was slightly less poverty stricken. Its definitely worth a look if you can come across it.\"\n",
      "1 b'A journey of discovery, this film follows the lives of one family living in a sleepy, island town in British Columbia. Languorous and dreamy, the inhabitants are satisfied to allow life to go on around them until a young, fresh-faced teacher, with new ideas arrives and brings with her life from the mainland. Slowly, their indolent state is awakened, the father (and principal of the local school) looks for excitement, the mother for stability, the oldest daughter for love, and the youngest for power. While not an incredible or ground-breaking piece of cinema, the movie is quietly enjoyable and good for a tired night when the wind is blowing. Unfortunately, I doubt anyone outside of Canada will find it easily accessible.'\n"
     ]
    }
   ],
   "source": [
    "for text_batch, label_batch in train_ds.take(1):\n",
    "    for i in range(5):\n",
    "        print(label_batch[i].numpy(), text_batch.numpy()[i])"
   ]
  },
  {
   "cell_type": "code",
   "execution_count": 19,
   "id": "07a2cfa1-19a7-43f4-93c4-efe1854e7d26",
   "metadata": {},
   "outputs": [],
   "source": [
    "AUTOTUNE = tf.data.AUTOTUNE\n",
    "\n",
    "train_ds = train_ds.cache().prefetch(buffer_size = AUTOTUNE)\n",
    "val_ds = val_ds.cache().prefetch(buffer_size = AUTOTUNE)"
   ]
  },
  {
   "cell_type": "code",
   "execution_count": null,
   "id": "5494ee69-6f07-41fc-aea5-3ccd843f5bf1",
   "metadata": {},
   "outputs": [],
   "source": []
  },
  {
   "cell_type": "code",
   "execution_count": 23,
   "id": "92f0547b-601b-4894-94ec-92aa8aa16980",
   "metadata": {},
   "outputs": [],
   "source": [
    "#Strip unnecessary HTML tags\n",
    "def custom_standardization(input_data):\n",
    "    lowercase = tf.strings.lower(input_data)\n",
    "    stripped_html = tf.strings.regex_replace(lowercase, '<br />', ' ')\n",
    "    return tf.strings.regex_replace(stripped_html, '[%s]' % re.escape(string.punctuation), '')\n",
    "\n",
    "vocab_size = 1000\n",
    "sequence_length = 100\n",
    "\n",
    "#Text Vectorization layer \n",
    "vectorize_layer = TextVectorization(\n",
    "    standardize = custom_standardization,\n",
    "    max_tokens = vocab_size,\n",
    "    output_mode = 'int',\n",
    "    output_sequence_length = sequence_length)\n",
    "\n",
    "#making text-only dataset and adapting to build the vocab in the layer\n",
    "text_ds = train_ds.map(lambda x,y : x)\n",
    "vectorize_layer.adapt(text_ds)"
   ]
  },
  {
   "cell_type": "code",
   "execution_count": 44,
   "id": "bbda3dde-3ee4-4a87-8439-79e3a681fcdb",
   "metadata": {},
   "outputs": [],
   "source": [
    "embedding_dim = 64\n",
    "\n",
    "model = Sequential([\n",
    "    vectorize_layer,\n",
    "    Embedding(vocab_size, embedding_dim, name = \"embedding\", mask_zero = True),\n",
    "    Bidirectional(LSTM(64)),\n",
    "    Dense(64, activation = 'relu'),\n",
    "    Dense(1)])"
   ]
  },
  {
   "cell_type": "code",
   "execution_count": 45,
   "id": "d0819a2f-067d-4a46-abd1-b4d9f18e9fee",
   "metadata": {},
   "outputs": [],
   "source": [
    "#Tensor Board\n",
    "tensorboard_callback = tf.keras.callbacks.TensorBoard(log_dir = \"logs\")"
   ]
  },
  {
   "cell_type": "code",
   "execution_count": 46,
   "id": "a3f5e6db-730a-4fdf-a925-77278330ed1c",
   "metadata": {},
   "outputs": [
    {
     "name": "stdout",
     "output_type": "stream",
     "text": [
      "Epoch 1/10\n",
      "20/20 [==============================] - 24s 975ms/step - loss: 0.6880 - accuracy: 0.5034 - val_loss: 0.6605 - val_accuracy: 0.5474\n",
      "Epoch 2/10\n",
      "20/20 [==============================] - 17s 865ms/step - loss: 0.5921 - accuracy: 0.6586 - val_loss: 0.5384 - val_accuracy: 0.7318\n",
      "Epoch 3/10\n",
      "20/20 [==============================] - 17s 868ms/step - loss: 0.4707 - accuracy: 0.7690 - val_loss: 0.4481 - val_accuracy: 0.7864\n",
      "Epoch 4/10\n",
      "20/20 [==============================] - 17s 871ms/step - loss: 0.4226 - accuracy: 0.7990 - val_loss: 0.4414 - val_accuracy: 0.7866\n",
      "Epoch 5/10\n",
      "20/20 [==============================] - 17s 874ms/step - loss: 0.4050 - accuracy: 0.8069 - val_loss: 0.4378 - val_accuracy: 0.7816\n",
      "Epoch 6/10\n",
      "20/20 [==============================] - 17s 873ms/step - loss: 0.3992 - accuracy: 0.8124 - val_loss: 0.4364 - val_accuracy: 0.7804\n",
      "Epoch 7/10\n",
      "20/20 [==============================] - 17s 878ms/step - loss: 0.3957 - accuracy: 0.8143 - val_loss: 0.4381 - val_accuracy: 0.7804\n",
      "Epoch 8/10\n",
      "20/20 [==============================] - 18s 894ms/step - loss: 0.3916 - accuracy: 0.8148 - val_loss: 0.4492 - val_accuracy: 0.7790\n",
      "Epoch 9/10\n",
      "20/20 [==============================] - 18s 886ms/step - loss: 0.3846 - accuracy: 0.8181 - val_loss: 0.4594 - val_accuracy: 0.7856\n",
      "Epoch 10/10\n",
      "20/20 [==============================] - 18s 885ms/step - loss: 0.3780 - accuracy: 0.8191 - val_loss: 0.4679 - val_accuracy: 0.7824\n"
     ]
    },
    {
     "data": {
      "text/plain": [
       "<keras.callbacks.History at 0x7fdc9945dee0>"
      ]
     },
     "execution_count": 46,
     "metadata": {},
     "output_type": "execute_result"
    }
   ],
   "source": [
    "model.compile(optimizer = 'adam',\n",
    "              loss = tf.keras.losses.BinaryCrossentropy(from_logits = True),\n",
    "              metrics = ['accuracy'])\n",
    "model.fit(\n",
    "    train_ds,\n",
    "    validation_data = val_ds,\n",
    "    epochs = 10, \n",
    "    callbacks = [tensorboard_callback])"
   ]
  },
  {
   "cell_type": "code",
   "execution_count": 40,
   "id": "2248cd34-1bad-4492-adce-8acfe74416b3",
   "metadata": {},
   "outputs": [
    {
     "name": "stdout",
     "output_type": "stream",
     "text": [
      "Model: \"sequential_2\"\n",
      "_________________________________________________________________\n",
      "Layer (type)                 Output Shape              Param #   \n",
      "=================================================================\n",
      "text_vectorization (TextVect (None, 100)               0         \n",
      "_________________________________________________________________\n",
      "embedding (Embedding)        (None, 100, 64)           64000     \n",
      "_________________________________________________________________\n",
      "bidirectional (Bidirectional (None, 128)               66048     \n",
      "_________________________________________________________________\n",
      "dense_4 (Dense)              (None, 64)                8256      \n",
      "_________________________________________________________________\n",
      "dense_5 (Dense)              (None, 1)                 65        \n",
      "=================================================================\n",
      "Total params: 138,369\n",
      "Trainable params: 138,369\n",
      "Non-trainable params: 0\n",
      "_________________________________________________________________\n"
     ]
    }
   ],
   "source": [
    "model.summary()"
   ]
  },
  {
   "cell_type": "code",
   "execution_count": 47,
   "id": "325eb2b9-d4e9-45c3-92dc-cab2e9ad9e52",
   "metadata": {},
   "outputs": [
    {
     "name": "stdout",
     "output_type": "stream",
     "text": [
      "The tensorboard extension is already loaded. To reload it, use:\n",
      "  %reload_ext tensorboard\n"
     ]
    },
    {
     "data": {
      "text/plain": [
       "Reusing TensorBoard on port 6006 (pid 53577), started 0:49:25 ago. (Use '!kill 53577' to kill it.)"
      ]
     },
     "metadata": {},
     "output_type": "display_data"
    },
    {
     "data": {
      "text/html": [
       "\n",
       "      <iframe id=\"tensorboard-frame-954ea6b21b8f6a2f\" width=\"100%\" height=\"800\" frameborder=\"0\">\n",
       "      </iframe>\n",
       "      <script>\n",
       "        (function() {\n",
       "          const frame = document.getElementById(\"tensorboard-frame-954ea6b21b8f6a2f\");\n",
       "          const url = new URL(\"/\", window.location);\n",
       "          const port = 6006;\n",
       "          if (port) {\n",
       "            url.port = port;\n",
       "          }\n",
       "          frame.src = url;\n",
       "        })();\n",
       "      </script>\n",
       "    "
      ],
      "text/plain": [
       "<IPython.core.display.HTML object>"
      ]
     },
     "metadata": {},
     "output_type": "display_data"
    }
   ],
   "source": [
    "%load_ext tensorboard\n",
    "%tensorboard --logdir logs"
   ]
  },
  {
   "cell_type": "code",
   "execution_count": 48,
   "id": "fbe4c032-ffda-42ab-b4a2-5651d8b0bd02",
   "metadata": {},
   "outputs": [
    {
     "name": "stdout",
     "output_type": "stream",
     "text": [
      "5/5 [==============================] - 1s 275ms/step - loss: 0.4679 - accuracy: 0.7824\n",
      "Test Loss: 0.4678657650947571\n",
      "Test Acc: 0.7824000120162964\n"
     ]
    }
   ],
   "source": [
    "test_loss, test_acc = model.evaluate(val_ds)\n",
    "\n",
    "print('Test Loss:', test_loss)\n",
    "print('Test Acc:', test_acc)"
   ]
  },
  {
   "cell_type": "code",
   "execution_count": 79,
   "id": "03d7d195-f94e-4e69-8464-16ef39745568",
   "metadata": {},
   "outputs": [
    {
     "name": "stdout",
     "output_type": "stream",
     "text": [
      "['Negative', 'Positive', 'Negative']\n"
     ]
    }
   ],
   "source": [
    "\n",
    "predictions = model.predict(np.array(['The movie was awful','The movie was very good', 'movie was bad']))\n",
    "#negative value for negative review, positive value for positive review\n",
    "def val_to_sentiment(val):\n",
    "    return 'Positive' if val >= 0 else 'Negative'\n",
    "print([val_to_sentiment(val) for val in predictions])"
   ]
  },
  {
   "cell_type": "code",
   "execution_count": null,
   "id": "260cc0e0-e8ac-4e88-94df-f2cb0e4a4a83",
   "metadata": {},
   "outputs": [],
   "source": []
  }
 ],
 "metadata": {
  "kernelspec": {
   "display_name": "Python 3",
   "language": "python",
   "name": "python3"
  },
  "language_info": {
   "codemirror_mode": {
    "name": "ipython",
    "version": 3
   },
   "file_extension": ".py",
   "mimetype": "text/x-python",
   "name": "python",
   "nbconvert_exporter": "python",
   "pygments_lexer": "ipython3",
   "version": "3.8.8"
  }
 },
 "nbformat": 4,
 "nbformat_minor": 5
}
